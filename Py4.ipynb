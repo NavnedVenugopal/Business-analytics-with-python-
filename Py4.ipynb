{
  "nbformat": 4,
  "nbformat_minor": 0,
  "metadata": {
    "colab": {
      "name": "Py4.ipynb",
      "provenance": []
    },
    "kernelspec": {
      "name": "python3",
      "display_name": "Python 3"
    },
    "language_info": {
      "name": "python"
    }
  },
  "cells": [
    {
      "cell_type": "code",
      "execution_count": 1,
      "metadata": {
        "id": "_qNrbybl7X8b"
      },
      "outputs": [],
      "source": [
        "import pandas as pd"
      ]
    },
    {
      "cell_type": "code",
      "source": [
        "dataset = pd.read_excel('NVDA (1).xlsx')"
      ],
      "metadata": {
        "id": "r1dxpKTg7egk"
      },
      "execution_count": 3,
      "outputs": []
    },
    {
      "cell_type": "code",
      "source": [
        "dataset"
      ],
      "metadata": {
        "colab": {
          "base_uri": "https://localhost:8080/",
          "height": 424
        },
        "id": "SSOX08R17nIe",
        "outputId": "6329b748-c003-491e-f356-353336abeb3f"
      },
      "execution_count": 4,
      "outputs": [
        {
          "output_type": "execute_result",
          "data": {
            "text/plain": [
              "     Date        Open\n",
              "0       1  201.350006\n",
              "1       2  196.850006\n",
              "2       3  195.000000\n",
              "3       4  194.940002\n",
              "4       5  199.910004\n",
              "..    ...         ...\n",
              "247   248  172.520004\n",
              "248   249  176.979996\n",
              "249   250  181.309998\n",
              "250   251  181.600006\n",
              "251   252  187.009995\n",
              "\n",
              "[252 rows x 2 columns]"
            ],
            "text/html": [
              "\n",
              "  <div id=\"df-f80f56f4-891f-4d26-9e24-d4c12e8f5383\">\n",
              "    <div class=\"colab-df-container\">\n",
              "      <div>\n",
              "<style scoped>\n",
              "    .dataframe tbody tr th:only-of-type {\n",
              "        vertical-align: middle;\n",
              "    }\n",
              "\n",
              "    .dataframe tbody tr th {\n",
              "        vertical-align: top;\n",
              "    }\n",
              "\n",
              "    .dataframe thead th {\n",
              "        text-align: right;\n",
              "    }\n",
              "</style>\n",
              "<table border=\"1\" class=\"dataframe\">\n",
              "  <thead>\n",
              "    <tr style=\"text-align: right;\">\n",
              "      <th></th>\n",
              "      <th>Date</th>\n",
              "      <th>Open</th>\n",
              "    </tr>\n",
              "  </thead>\n",
              "  <tbody>\n",
              "    <tr>\n",
              "      <th>0</th>\n",
              "      <td>1</td>\n",
              "      <td>201.350006</td>\n",
              "    </tr>\n",
              "    <tr>\n",
              "      <th>1</th>\n",
              "      <td>2</td>\n",
              "      <td>196.850006</td>\n",
              "    </tr>\n",
              "    <tr>\n",
              "      <th>2</th>\n",
              "      <td>3</td>\n",
              "      <td>195.000000</td>\n",
              "    </tr>\n",
              "    <tr>\n",
              "      <th>3</th>\n",
              "      <td>4</td>\n",
              "      <td>194.940002</td>\n",
              "    </tr>\n",
              "    <tr>\n",
              "      <th>4</th>\n",
              "      <td>5</td>\n",
              "      <td>199.910004</td>\n",
              "    </tr>\n",
              "    <tr>\n",
              "      <th>...</th>\n",
              "      <td>...</td>\n",
              "      <td>...</td>\n",
              "    </tr>\n",
              "    <tr>\n",
              "      <th>247</th>\n",
              "      <td>248</td>\n",
              "      <td>172.520004</td>\n",
              "    </tr>\n",
              "    <tr>\n",
              "      <th>248</th>\n",
              "      <td>249</td>\n",
              "      <td>176.979996</td>\n",
              "    </tr>\n",
              "    <tr>\n",
              "      <th>249</th>\n",
              "      <td>250</td>\n",
              "      <td>181.309998</td>\n",
              "    </tr>\n",
              "    <tr>\n",
              "      <th>250</th>\n",
              "      <td>251</td>\n",
              "      <td>181.600006</td>\n",
              "    </tr>\n",
              "    <tr>\n",
              "      <th>251</th>\n",
              "      <td>252</td>\n",
              "      <td>187.009995</td>\n",
              "    </tr>\n",
              "  </tbody>\n",
              "</table>\n",
              "<p>252 rows × 2 columns</p>\n",
              "</div>\n",
              "      <button class=\"colab-df-convert\" onclick=\"convertToInteractive('df-f80f56f4-891f-4d26-9e24-d4c12e8f5383')\"\n",
              "              title=\"Convert this dataframe to an interactive table.\"\n",
              "              style=\"display:none;\">\n",
              "        \n",
              "  <svg xmlns=\"http://www.w3.org/2000/svg\" height=\"24px\"viewBox=\"0 0 24 24\"\n",
              "       width=\"24px\">\n",
              "    <path d=\"M0 0h24v24H0V0z\" fill=\"none\"/>\n",
              "    <path d=\"M18.56 5.44l.94 2.06.94-2.06 2.06-.94-2.06-.94-.94-2.06-.94 2.06-2.06.94zm-11 1L8.5 8.5l.94-2.06 2.06-.94-2.06-.94L8.5 2.5l-.94 2.06-2.06.94zm10 10l.94 2.06.94-2.06 2.06-.94-2.06-.94-.94-2.06-.94 2.06-2.06.94z\"/><path d=\"M17.41 7.96l-1.37-1.37c-.4-.4-.92-.59-1.43-.59-.52 0-1.04.2-1.43.59L10.3 9.45l-7.72 7.72c-.78.78-.78 2.05 0 2.83L4 21.41c.39.39.9.59 1.41.59.51 0 1.02-.2 1.41-.59l7.78-7.78 2.81-2.81c.8-.78.8-2.07 0-2.86zM5.41 20L4 18.59l7.72-7.72 1.47 1.35L5.41 20z\"/>\n",
              "  </svg>\n",
              "      </button>\n",
              "      \n",
              "  <style>\n",
              "    .colab-df-container {\n",
              "      display:flex;\n",
              "      flex-wrap:wrap;\n",
              "      gap: 12px;\n",
              "    }\n",
              "\n",
              "    .colab-df-convert {\n",
              "      background-color: #E8F0FE;\n",
              "      border: none;\n",
              "      border-radius: 50%;\n",
              "      cursor: pointer;\n",
              "      display: none;\n",
              "      fill: #1967D2;\n",
              "      height: 32px;\n",
              "      padding: 0 0 0 0;\n",
              "      width: 32px;\n",
              "    }\n",
              "\n",
              "    .colab-df-convert:hover {\n",
              "      background-color: #E2EBFA;\n",
              "      box-shadow: 0px 1px 2px rgba(60, 64, 67, 0.3), 0px 1px 3px 1px rgba(60, 64, 67, 0.15);\n",
              "      fill: #174EA6;\n",
              "    }\n",
              "\n",
              "    [theme=dark] .colab-df-convert {\n",
              "      background-color: #3B4455;\n",
              "      fill: #D2E3FC;\n",
              "    }\n",
              "\n",
              "    [theme=dark] .colab-df-convert:hover {\n",
              "      background-color: #434B5C;\n",
              "      box-shadow: 0px 1px 3px 1px rgba(0, 0, 0, 0.15);\n",
              "      filter: drop-shadow(0px 1px 2px rgba(0, 0, 0, 0.3));\n",
              "      fill: #FFFFFF;\n",
              "    }\n",
              "  </style>\n",
              "\n",
              "      <script>\n",
              "        const buttonEl =\n",
              "          document.querySelector('#df-f80f56f4-891f-4d26-9e24-d4c12e8f5383 button.colab-df-convert');\n",
              "        buttonEl.style.display =\n",
              "          google.colab.kernel.accessAllowed ? 'block' : 'none';\n",
              "\n",
              "        async function convertToInteractive(key) {\n",
              "          const element = document.querySelector('#df-f80f56f4-891f-4d26-9e24-d4c12e8f5383');\n",
              "          const dataTable =\n",
              "            await google.colab.kernel.invokeFunction('convertToInteractive',\n",
              "                                                     [key], {});\n",
              "          if (!dataTable) return;\n",
              "\n",
              "          const docLinkHtml = 'Like what you see? Visit the ' +\n",
              "            '<a target=\"_blank\" href=https://colab.research.google.com/notebooks/data_table.ipynb>data table notebook</a>'\n",
              "            + ' to learn more about interactive tables.';\n",
              "          element.innerHTML = '';\n",
              "          dataTable['output_type'] = 'display_data';\n",
              "          await google.colab.output.renderOutput(dataTable, element);\n",
              "          const docLink = document.createElement('div');\n",
              "          docLink.innerHTML = docLinkHtml;\n",
              "          element.appendChild(docLink);\n",
              "        }\n",
              "      </script>\n",
              "    </div>\n",
              "  </div>\n",
              "  "
            ]
          },
          "metadata": {},
          "execution_count": 4
        }
      ]
    },
    {
      "cell_type": "code",
      "source": [
        "x = dataset.iloc[:, :-1].values\n",
        "y = dataset.iloc[:, -1].values"
      ],
      "metadata": {
        "id": "cqQR1Afz7pK5"
      },
      "execution_count": 5,
      "outputs": []
    },
    {
      "cell_type": "code",
      "source": [
        "x"
      ],
      "metadata": {
        "colab": {
          "base_uri": "https://localhost:8080/"
        },
        "id": "r3MJYjLq7rBF",
        "outputId": "2513bad4-14c4-4a59-d163-7bfa3781c24b"
      },
      "execution_count": 6,
      "outputs": [
        {
          "output_type": "execute_result",
          "data": {
            "text/plain": [
              "array([[  1],\n",
              "       [  2],\n",
              "       [  3],\n",
              "       [  4],\n",
              "       [  5],\n",
              "       [  6],\n",
              "       [  7],\n",
              "       [  8],\n",
              "       [  9],\n",
              "       [ 10],\n",
              "       [ 11],\n",
              "       [ 12],\n",
              "       [ 13],\n",
              "       [ 14],\n",
              "       [ 15],\n",
              "       [ 16],\n",
              "       [ 17],\n",
              "       [ 18],\n",
              "       [ 19],\n",
              "       [ 20],\n",
              "       [ 21],\n",
              "       [ 22],\n",
              "       [ 23],\n",
              "       [ 24],\n",
              "       [ 25],\n",
              "       [ 26],\n",
              "       [ 27],\n",
              "       [ 28],\n",
              "       [ 29],\n",
              "       [ 30],\n",
              "       [ 31],\n",
              "       [ 32],\n",
              "       [ 33],\n",
              "       [ 34],\n",
              "       [ 35],\n",
              "       [ 36],\n",
              "       [ 37],\n",
              "       [ 38],\n",
              "       [ 39],\n",
              "       [ 40],\n",
              "       [ 41],\n",
              "       [ 42],\n",
              "       [ 43],\n",
              "       [ 44],\n",
              "       [ 45],\n",
              "       [ 46],\n",
              "       [ 47],\n",
              "       [ 48],\n",
              "       [ 49],\n",
              "       [ 50],\n",
              "       [ 51],\n",
              "       [ 52],\n",
              "       [ 53],\n",
              "       [ 54],\n",
              "       [ 55],\n",
              "       [ 56],\n",
              "       [ 57],\n",
              "       [ 58],\n",
              "       [ 59],\n",
              "       [ 60],\n",
              "       [ 61],\n",
              "       [ 62],\n",
              "       [ 63],\n",
              "       [ 64],\n",
              "       [ 65],\n",
              "       [ 66],\n",
              "       [ 67],\n",
              "       [ 68],\n",
              "       [ 69],\n",
              "       [ 70],\n",
              "       [ 71],\n",
              "       [ 72],\n",
              "       [ 73],\n",
              "       [ 74],\n",
              "       [ 75],\n",
              "       [ 76],\n",
              "       [ 77],\n",
              "       [ 78],\n",
              "       [ 79],\n",
              "       [ 80],\n",
              "       [ 81],\n",
              "       [ 82],\n",
              "       [ 83],\n",
              "       [ 84],\n",
              "       [ 85],\n",
              "       [ 86],\n",
              "       [ 87],\n",
              "       [ 88],\n",
              "       [ 89],\n",
              "       [ 90],\n",
              "       [ 91],\n",
              "       [ 92],\n",
              "       [ 93],\n",
              "       [ 94],\n",
              "       [ 95],\n",
              "       [ 96],\n",
              "       [ 97],\n",
              "       [ 98],\n",
              "       [ 99],\n",
              "       [100],\n",
              "       [101],\n",
              "       [102],\n",
              "       [103],\n",
              "       [104],\n",
              "       [105],\n",
              "       [106],\n",
              "       [107],\n",
              "       [108],\n",
              "       [109],\n",
              "       [110],\n",
              "       [111],\n",
              "       [112],\n",
              "       [113],\n",
              "       [114],\n",
              "       [115],\n",
              "       [116],\n",
              "       [117],\n",
              "       [118],\n",
              "       [119],\n",
              "       [120],\n",
              "       [121],\n",
              "       [122],\n",
              "       [123],\n",
              "       [124],\n",
              "       [125],\n",
              "       [126],\n",
              "       [127],\n",
              "       [128],\n",
              "       [129],\n",
              "       [130],\n",
              "       [131],\n",
              "       [132],\n",
              "       [133],\n",
              "       [134],\n",
              "       [135],\n",
              "       [136],\n",
              "       [137],\n",
              "       [138],\n",
              "       [139],\n",
              "       [140],\n",
              "       [141],\n",
              "       [142],\n",
              "       [143],\n",
              "       [144],\n",
              "       [145],\n",
              "       [146],\n",
              "       [147],\n",
              "       [148],\n",
              "       [149],\n",
              "       [150],\n",
              "       [151],\n",
              "       [152],\n",
              "       [153],\n",
              "       [154],\n",
              "       [155],\n",
              "       [156],\n",
              "       [157],\n",
              "       [158],\n",
              "       [159],\n",
              "       [160],\n",
              "       [161],\n",
              "       [162],\n",
              "       [163],\n",
              "       [164],\n",
              "       [165],\n",
              "       [166],\n",
              "       [167],\n",
              "       [168],\n",
              "       [169],\n",
              "       [170],\n",
              "       [171],\n",
              "       [172],\n",
              "       [173],\n",
              "       [174],\n",
              "       [175],\n",
              "       [176],\n",
              "       [177],\n",
              "       [178],\n",
              "       [179],\n",
              "       [180],\n",
              "       [181],\n",
              "       [182],\n",
              "       [183],\n",
              "       [184],\n",
              "       [185],\n",
              "       [186],\n",
              "       [187],\n",
              "       [188],\n",
              "       [189],\n",
              "       [190],\n",
              "       [191],\n",
              "       [192],\n",
              "       [193],\n",
              "       [194],\n",
              "       [195],\n",
              "       [196],\n",
              "       [197],\n",
              "       [198],\n",
              "       [199],\n",
              "       [200],\n",
              "       [201],\n",
              "       [202],\n",
              "       [203],\n",
              "       [204],\n",
              "       [205],\n",
              "       [206],\n",
              "       [207],\n",
              "       [208],\n",
              "       [209],\n",
              "       [210],\n",
              "       [211],\n",
              "       [212],\n",
              "       [213],\n",
              "       [214],\n",
              "       [215],\n",
              "       [216],\n",
              "       [217],\n",
              "       [218],\n",
              "       [219],\n",
              "       [220],\n",
              "       [221],\n",
              "       [222],\n",
              "       [223],\n",
              "       [224],\n",
              "       [225],\n",
              "       [226],\n",
              "       [227],\n",
              "       [228],\n",
              "       [229],\n",
              "       [230],\n",
              "       [231],\n",
              "       [232],\n",
              "       [233],\n",
              "       [234],\n",
              "       [235],\n",
              "       [236],\n",
              "       [237],\n",
              "       [238],\n",
              "       [239],\n",
              "       [240],\n",
              "       [241],\n",
              "       [242],\n",
              "       [243],\n",
              "       [244],\n",
              "       [245],\n",
              "       [246],\n",
              "       [247],\n",
              "       [248],\n",
              "       [249],\n",
              "       [250],\n",
              "       [251],\n",
              "       [252]])"
            ]
          },
          "metadata": {},
          "execution_count": 6
        }
      ]
    },
    {
      "cell_type": "code",
      "source": [
        "y"
      ],
      "metadata": {
        "colab": {
          "base_uri": "https://localhost:8080/"
        },
        "id": "cyWi8DbK7sKg",
        "outputId": "014c2067-ab8f-4eb3-a92f-7efafd25a74c"
      },
      "execution_count": 7,
      "outputs": [
        {
          "output_type": "execute_result",
          "data": {
            "text/plain": [
              "array([201.350006, 196.850006, 195.      , 194.940002, 199.910004,\n",
              "       209.710007, 217.529999, 217.369995, 222.      , 221.839996,\n",
              "       228.300003, 226.949997, 224.850006, 225.179993, 223.25    ,\n",
              "       228.330002, 225.130005, 223.119995, 223.479996, 226.839996,\n",
              "       222.75    , 223.089996, 221.830002, 223.      , 211.460007,\n",
              "       214.169998, 213.660004, 221.399994, 220.699997, 217.100006,\n",
              "       212.139999, 209.399994, 207.679993, 207.5     , 205.039993,\n",
              "       199.5     , 201.199997, 210.919998, 211.009995, 205.75    ,\n",
              "       208.279999, 209.179993, 212.880005, 218.100006, 217.490005,\n",
              "       222.759995, 223.050003, 220.970001, 228.229996, 229.729996,\n",
              "       239.889999, 244.740005, 248.779999, 250.009995, 256.48999 ,\n",
              "       258.220001, 266.700012, 272.290009, 301.869995, 301.48999 ,\n",
              "       322.820007, 293.559998, 304.679993, 300.100006, 305.519989,\n",
              "       297.589996, 304.179993, 323.670013, 322.429993, 335.170013,\n",
              "       315.350006, 314.609985, 326.      , 323.660004, 331.690002,\n",
              "       332.190002, 312.140015, 320.      , 298.799988, 309.570007,\n",
              "       319.98999 , 317.339996, 311.5     , 302.48999 , 276.98999 ,\n",
              "       284.      , 311.519989, 279.850006, 273.049988, 283.73999 ,\n",
              "       288.910004, 297.549988, 296.600006, 313.119995, 302.730011,\n",
              "       298.269989, 296.73999 , 298.149994, 302.769989, 289.48999 ,\n",
              "       276.399994, 281.410004, 265.809998, 273.230011, 280.670013,\n",
              "       283.790009, 263.      , 262.600006, 260.790009, 253.039993,\n",
              "       235.070007, 223.300003, 225.460007, 232.399994, 235.679993,\n",
              "       220.119995, 231.820007, 251.039993, 257.940002, 244.580002,\n",
              "       239.720001, 243.720001, 243.589996, 256.220001, 259.950012,\n",
              "       259.160004, 239.339996, 249.490005, 262.589996, 256.299988,\n",
              "       246.679993, 230.350006, 238.020004, 210.149994, 237.210007,\n",
              "       239.919998, 242.910004, 237.559998, 242.619995, 233.839996,\n",
              "       228.169998, 213.089996, 223.869995, 225.309998, 230.220001,\n",
              "       218.690002, 215.179993, 235.      , 241.199997, 247.990005,\n",
              "       265.070007, 267.269989, 261.26001 , 261.660004, 278.859985,\n",
              "       277.559998, 286.950012, 283.040009, 277.820007, 273.75    ,\n",
              "       267.279999, 272.540009, 249.339996, 244.410004, 239.169998,\n",
              "       222.139999, 225.369995, 217.279999, 225.050003, 212.      ,\n",
              "       217.199997, 225.169998, 217.089996, 203.029999, 192.020004,\n",
              "       197.179993, 185.979996, 189.669998, 194.020004, 185.410004,\n",
              "       194.      , 199.229996, 198.669998, 187.360001, 180.339996,\n",
              "       176.889999, 173.470001, 162.190002, 167.880005, 175.089996,\n",
              "       180.740005, 177.050003, 169.369995, 173.320007, 162.740005,\n",
              "       165.100006, 160.199997, 160.360001, 181.860001, 189.800003,\n",
              "       187.240005, 182.919998, 190.820007, 191.389999, 184.720001,\n",
              "       187.990005, 184.809998, 176.      , 160.      , 157.309998,\n",
              "       160.949997, 158.600006, 156.479996, 164.75    , 162.259995,\n",
              "       165.190002, 165.      , 173.119995, 169.      , 158.139999,\n",
              "       153.610001, 148.990005, 141.75    , 150.100006, 154.559998,\n",
              "       154.300003, 155.259995, 152.679993, 145.899994, 151.080002,\n",
              "       156.589996, 163.020004, 164.860001, 169.470001, 178.850006,\n",
              "       178.929993, 170.190002, 168.889999, 170.320007, 179.75    ,\n",
              "       178.130005, 181.820007, 181.220001, 181.839996, 188.490005,\n",
              "       188.100006, 175.020004, 172.520004, 176.979996, 181.309998,\n",
              "       181.600006, 187.009995])"
            ]
          },
          "metadata": {},
          "execution_count": 7
        }
      ]
    },
    {
      "cell_type": "code",
      "source": [
        "from sklearn.linear_model import LinearRegression\n",
        "reg = LinearRegression()\n",
        "reg.fit(x,y)"
      ],
      "metadata": {
        "colab": {
          "base_uri": "https://localhost:8080/"
        },
        "id": "XViwzU2N7twI",
        "outputId": "a2a42515-2a75-46ce-c43d-c0e2aa0cc253"
      },
      "execution_count": 9,
      "outputs": [
        {
          "output_type": "execute_result",
          "data": {
            "text/plain": [
              "LinearRegression()"
            ]
          },
          "metadata": {},
          "execution_count": 9
        }
      ]
    },
    {
      "cell_type": "code",
      "source": [
        "y_pred = reg.predict(x)"
      ],
      "metadata": {
        "id": "ZSgPkGOU7xQX"
      },
      "execution_count": 10,
      "outputs": []
    },
    {
      "cell_type": "code",
      "source": [
        "import matplotlib.pyplot as plt\n",
        "plt.scatter(x,y, color = 'red')\n",
        "plt.plot(x, y_pred, color = 'blue')\n",
        "plt.show()"
      ],
      "metadata": {
        "colab": {
          "base_uri": "https://localhost:8080/",
          "height": 265
        },
        "id": "EgpR2cdi797Y",
        "outputId": "b5e9fa42-befa-4f29-fabf-39f778754eca"
      },
      "execution_count": 12,
      "outputs": [
        {
          "output_type": "display_data",
          "data": {
            "text/plain": [
              "<Figure size 432x288 with 1 Axes>"
            ],
            "image/png": "[encoded data removed]"
          },
          "metadata": {
            "needs_background": "light"
          }
        }
      ]
    },
    {
      "cell_type": "code",
      "source": [
        "from sklearn.preprocessing import PolynomialFeatures"
      ],
      "metadata": {
        "id": "_tdwwlgo7_zD"
      },
      "execution_count": 13,
      "outputs": []
    },
    {
      "cell_type": "code",
      "source": [
        "poly_reg = PolynomialFeatures(degree =10)"
      ],
      "metadata": {
        "id": "3NO8ucpe9Vl3"
      },
      "execution_count": 39,
      "outputs": []
    },
    {
      "cell_type": "code",
      "source": [
        "x_poly = poly_reg.fit_transform(x)"
      ],
      "metadata": {
        "id": "2iUnUfpt-GXU"
      },
      "execution_count": 41,
      "outputs": []
    },
    {
      "cell_type": "code",
      "source": [
        "LG = LinearRegression()"
      ],
      "metadata": {
        "id": "qvjsBlu0-SRE"
      },
      "execution_count": 42,
      "outputs": []
    },
    {
      "cell_type": "code",
      "source": [
        "LG.fit(x_poly, y)"
      ],
      "metadata": {
        "colab": {
          "base_uri": "https://localhost:8080/"
        },
        "id": "QQKa_bsG-ckm",
        "outputId": "b45357ac-123e-4d90-dcd9-3a7f759bd04f"
      },
      "execution_count": 43,
      "outputs": [
        {
          "output_type": "execute_result",
          "data": {
            "text/plain": [
              "LinearRegression()"
            ]
          },
          "metadata": {},
          "execution_count": 43
        }
      ]
    },
    {
      "cell_type": "code",
      "source": [
        "y_pred=LG.predict(x_poly)"
      ],
      "metadata": {
        "id": "ZSfIXGPi_pN7"
      },
      "execution_count": 44,
      "outputs": []
    },
    {
      "cell_type": "code",
      "source": [
        "plt.scatter(x, y, color = 'red')\n",
        "plt.plot(x,y_pred,  color = 'blue')"
      ],
      "metadata": {
        "colab": {
          "base_uri": "https://localhost:8080/",
          "height": 282
        },
        "id": "IMbCKETlAJIp",
        "outputId": "2b192b79-94d9-4d50-e618-b7d992279ef6"
      },
      "execution_count": 45,
      "outputs": [
        {
          "output_type": "execute_result",
          "data": {
            "text/plain": [
              "[<matplotlib.lines.Line2D at 0x7fb9026590d0>]"
            ]
          },
          "metadata": {},
          "execution_count": 45
        },
        {
          "output_type": "display_data",
          "data": {
            "text/plain": [
              "<Figure size 432x288 with 1 Axes>"
            ],
            "image/png": "[encoded data removed]"
          },
          "metadata": {
            "needs_background": "light"
          }
        }
      ]
    }
  ]
}