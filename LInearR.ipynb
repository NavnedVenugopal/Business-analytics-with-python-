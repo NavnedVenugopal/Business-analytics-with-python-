{
  "nbformat": 4,
  "nbformat_minor": 0,
  "metadata": {
    "colab": {
      "name": "LInearR.ipynb",
      "provenance": []
    },
    "kernelspec": {
      "name": "python3",
      "display_name": "Python 3"
    },
    "language_info": {
      "name": "python"
    }
  },
  "cells": [
    {
      "cell_type": "code",
      "execution_count": 1,
      "metadata": {
        "id": "p0udgPJULxV5"
      },
      "outputs": [],
      "source": [
        "import numpy as np\n",
        "import matplotlib.pyplot as plt\n",
        "import pandas as pd"
      ]
    },
    {
      "cell_type": "code",
      "source": [
        "dataset = pd.read_excel('NVDA.xlsx')"
      ],
      "metadata": {
        "id": "VBYX9XT6L6Mo"
      },
      "execution_count": 2,
      "outputs": []
    },
    {
      "cell_type": "code",
      "source": [
        "x = dataset.iloc[:, :-1].values"
      ],
      "metadata": {
        "id": "Dh6sx827MB5e"
      },
      "execution_count": 3,
      "outputs": []
    },
    {
      "cell_type": "code",
      "source": [
        "y = dataset.iloc[:, -1].values"
      ],
      "metadata": {
        "id": "rmGWL7b9MH8l"
      },
      "execution_count": 4,
      "outputs": []
    },
    {
      "cell_type": "code",
      "source": [
        "x"
      ],
      "metadata": {
        "colab": {
          "base_uri": "https://localhost:8080/"
        },
        "id": "-QYETJhPMPGl",
        "outputId": "b40ee0be-3e2b-4c7a-c265-ee5456115eeb"
      },
      "execution_count": 5,
      "outputs": [
        {
          "output_type": "execute_result",
          "data": {
            "text/plain": [
              "array([[  1],\n",
              "       [  2],\n",
              "       [  3],\n",
              "       [  4],\n",
              "       [  5],\n",
              "       [  6],\n",
              "       [  7],\n",
              "       [  8],\n",
              "       [  9],\n",
              "       [ 10],\n",
              "       [ 11],\n",
              "       [ 12],\n",
              "       [ 13],\n",
              "       [ 14],\n",
              "       [ 15],\n",
              "       [ 16],\n",
              "       [ 17],\n",
              "       [ 18],\n",
              "       [ 19],\n",
              "       [ 20],\n",
              "       [ 21],\n",
              "       [ 22],\n",
              "       [ 23],\n",
              "       [ 24],\n",
              "       [ 25],\n",
              "       [ 26],\n",
              "       [ 27],\n",
              "       [ 28],\n",
              "       [ 29],\n",
              "       [ 30],\n",
              "       [ 31],\n",
              "       [ 32],\n",
              "       [ 33],\n",
              "       [ 34],\n",
              "       [ 35],\n",
              "       [ 36],\n",
              "       [ 37],\n",
              "       [ 38],\n",
              "       [ 39],\n",
              "       [ 40],\n",
              "       [ 41],\n",
              "       [ 42],\n",
              "       [ 43],\n",
              "       [ 44],\n",
              "       [ 45],\n",
              "       [ 46],\n",
              "       [ 47],\n",
              "       [ 48],\n",
              "       [ 49],\n",
              "       [ 50],\n",
              "       [ 51],\n",
              "       [ 52],\n",
              "       [ 53],\n",
              "       [ 54],\n",
              "       [ 55],\n",
              "       [ 56],\n",
              "       [ 57],\n",
              "       [ 58],\n",
              "       [ 59],\n",
              "       [ 60],\n",
              "       [ 61],\n",
              "       [ 62],\n",
              "       [ 63],\n",
              "       [ 64],\n",
              "       [ 65],\n",
              "       [ 66],\n",
              "       [ 67],\n",
              "       [ 68],\n",
              "       [ 69],\n",
              "       [ 70],\n",
              "       [ 71],\n",
              "       [ 72],\n",
              "       [ 73],\n",
              "       [ 74],\n",
              "       [ 75],\n",
              "       [ 76],\n",
              "       [ 77],\n",
              "       [ 78],\n",
              "       [ 79],\n",
              "       [ 80],\n",
              "       [ 81],\n",
              "       [ 82],\n",
              "       [ 83],\n",
              "       [ 84],\n",
              "       [ 85],\n",
              "       [ 86],\n",
              "       [ 87],\n",
              "       [ 88],\n",
              "       [ 89],\n",
              "       [ 90],\n",
              "       [ 91],\n",
              "       [ 92],\n",
              "       [ 93],\n",
              "       [ 94],\n",
              "       [ 95],\n",
              "       [ 96],\n",
              "       [ 97],\n",
              "       [ 98],\n",
              "       [ 99],\n",
              "       [100],\n",
              "       [101],\n",
              "       [102],\n",
              "       [103],\n",
              "       [104],\n",
              "       [105],\n",
              "       [106],\n",
              "       [107],\n",
              "       [108],\n",
              "       [109],\n",
              "       [110],\n",
              "       [111],\n",
              "       [112],\n",
              "       [113],\n",
              "       [114],\n",
              "       [115],\n",
              "       [116],\n",
              "       [117],\n",
              "       [118],\n",
              "       [119],\n",
              "       [120],\n",
              "       [121],\n",
              "       [122],\n",
              "       [123],\n",
              "       [124],\n",
              "       [125],\n",
              "       [126],\n",
              "       [127],\n",
              "       [128],\n",
              "       [129],\n",
              "       [130],\n",
              "       [131],\n",
              "       [132],\n",
              "       [133],\n",
              "       [134],\n",
              "       [135],\n",
              "       [136],\n",
              "       [137],\n",
              "       [138],\n",
              "       [139],\n",
              "       [140],\n",
              "       [141],\n",
              "       [142],\n",
              "       [143],\n",
              "       [144],\n",
              "       [145],\n",
              "       [146],\n",
              "       [147],\n",
              "       [148],\n",
              "       [149],\n",
              "       [150],\n",
              "       [151],\n",
              "       [152],\n",
              "       [153],\n",
              "       [154],\n",
              "       [155],\n",
              "       [156],\n",
              "       [157],\n",
              "       [158],\n",
              "       [159],\n",
              "       [160],\n",
              "       [161],\n",
              "       [162],\n",
              "       [163],\n",
              "       [164],\n",
              "       [165],\n",
              "       [166],\n",
              "       [167],\n",
              "       [168],\n",
              "       [169],\n",
              "       [170],\n",
              "       [171],\n",
              "       [172],\n",
              "       [173],\n",
              "       [174],\n",
              "       [175],\n",
              "       [176],\n",
              "       [177],\n",
              "       [178],\n",
              "       [179],\n",
              "       [180],\n",
              "       [181],\n",
              "       [182],\n",
              "       [183],\n",
              "       [184],\n",
              "       [185],\n",
              "       [186],\n",
              "       [187],\n",
              "       [188],\n",
              "       [189],\n",
              "       [190],\n",
              "       [191],\n",
              "       [192],\n",
              "       [193],\n",
              "       [194],\n",
              "       [195],\n",
              "       [196],\n",
              "       [197],\n",
              "       [198],\n",
              "       [199],\n",
              "       [200],\n",
              "       [201],\n",
              "       [202],\n",
              "       [203],\n",
              "       [204],\n",
              "       [205],\n",
              "       [206],\n",
              "       [207],\n",
              "       [208],\n",
              "       [209],\n",
              "       [210],\n",
              "       [211],\n",
              "       [212],\n",
              "       [213],\n",
              "       [214],\n",
              "       [215],\n",
              "       [216],\n",
              "       [217],\n",
              "       [218],\n",
              "       [219],\n",
              "       [220],\n",
              "       [221],\n",
              "       [222],\n",
              "       [223],\n",
              "       [224],\n",
              "       [225],\n",
              "       [226],\n",
              "       [227],\n",
              "       [228],\n",
              "       [229],\n",
              "       [230],\n",
              "       [231],\n",
              "       [232],\n",
              "       [233],\n",
              "       [234],\n",
              "       [235],\n",
              "       [236],\n",
              "       [237],\n",
              "       [238],\n",
              "       [239],\n",
              "       [240],\n",
              "       [241],\n",
              "       [242],\n",
              "       [243],\n",
              "       [244],\n",
              "       [245],\n",
              "       [246],\n",
              "       [247],\n",
              "       [248],\n",
              "       [249],\n",
              "       [250],\n",
              "       [251],\n",
              "       [252]])"
            ]
          },
          "metadata": {},
          "execution_count": 5
        }
      ]
    },
    {
      "cell_type": "code",
      "source": [
        "y"
      ],
      "metadata": {
        "colab": {
          "base_uri": "https://localhost:8080/"
        },
        "id": "xRsmVCtTMQeU",
        "outputId": "92a8607f-7558-4696-9d0f-ab29a9b0528e"
      },
      "execution_count": 6,
      "outputs": [
        {
          "output_type": "execute_result",
          "data": {
            "text/plain": [
              "array([201.350006, 196.850006, 195.      , 194.940002, 199.910004,\n",
              "       209.710007, 217.529999, 217.369995, 222.      , 221.839996,\n",
              "       228.300003, 226.949997, 224.850006, 225.179993, 223.25    ,\n",
              "       228.330002, 225.130005, 223.119995, 223.479996, 226.839996,\n",
              "       222.75    , 223.089996, 221.830002, 223.      , 211.460007,\n",
              "       214.169998, 213.660004, 221.399994, 220.699997, 217.100006,\n",
              "       212.139999, 209.399994, 207.679993, 207.5     , 205.039993,\n",
              "       199.5     , 201.199997, 210.919998, 211.009995, 205.75    ,\n",
              "       208.279999, 209.179993, 212.880005, 218.100006, 217.490005,\n",
              "       222.759995, 223.050003, 220.970001, 228.229996, 229.729996,\n",
              "       239.889999, 244.740005, 248.779999, 250.009995, 256.48999 ,\n",
              "       258.220001, 266.700012, 272.290009, 301.869995, 301.48999 ,\n",
              "       322.820007, 293.559998, 304.679993, 300.100006, 305.519989,\n",
              "       297.589996, 304.179993, 323.670013, 322.429993, 335.170013,\n",
              "       315.350006, 314.609985, 326.      , 323.660004, 331.690002,\n",
              "       332.190002, 312.140015, 320.      , 298.799988, 309.570007,\n",
              "       319.98999 , 317.339996, 311.5     , 302.48999 , 276.98999 ,\n",
              "       284.      , 311.519989, 279.850006, 273.049988, 283.73999 ,\n",
              "       288.910004, 297.549988, 296.600006, 313.119995, 302.730011,\n",
              "       298.269989, 296.73999 , 298.149994, 302.769989, 289.48999 ,\n",
              "       276.399994, 281.410004, 265.809998, 273.230011, 280.670013,\n",
              "       283.790009, 263.      , 262.600006, 260.790009, 253.039993,\n",
              "       235.070007, 223.300003, 225.460007, 232.399994, 235.679993,\n",
              "       220.119995, 231.820007, 251.039993, 257.940002, 244.580002,\n",
              "       239.720001, 243.720001, 243.589996, 256.220001, 259.950012,\n",
              "       259.160004, 239.339996, 249.490005, 262.589996, 256.299988,\n",
              "       246.679993, 230.350006, 238.020004, 210.149994, 237.210007,\n",
              "       239.919998, 242.910004, 237.559998, 242.619995, 233.839996,\n",
              "       228.169998, 213.089996, 223.869995, 225.309998, 230.220001,\n",
              "       218.690002, 215.179993, 235.      , 241.199997, 247.990005,\n",
              "       265.070007, 267.269989, 261.26001 , 261.660004, 278.859985,\n",
              "       277.559998, 286.950012, 283.040009, 277.820007, 273.75    ,\n",
              "       267.279999, 272.540009, 249.339996, 244.410004, 239.169998,\n",
              "       222.139999, 225.369995, 217.279999, 225.050003, 212.      ,\n",
              "       217.199997, 225.169998, 217.089996, 203.029999, 192.020004,\n",
              "       197.179993, 185.979996, 189.669998, 194.020004, 185.410004,\n",
              "       194.      , 199.229996, 198.669998, 187.360001, 180.339996,\n",
              "       176.889999, 173.470001, 162.190002, 167.880005, 175.089996,\n",
              "       180.740005, 177.050003, 169.369995, 173.320007, 162.740005,\n",
              "       165.100006, 160.199997, 160.360001, 181.860001, 189.800003,\n",
              "       187.240005, 182.919998, 190.820007, 191.389999, 184.720001,\n",
              "       187.990005, 184.809998, 176.      , 160.      , 157.309998,\n",
              "       160.949997, 158.600006, 156.479996, 164.75    , 162.259995,\n",
              "       165.190002, 165.      , 173.119995, 169.      , 158.139999,\n",
              "       153.610001, 148.990005, 141.75    , 150.100006, 154.559998,\n",
              "       154.300003, 155.259995, 152.679993, 145.899994, 151.080002,\n",
              "       156.589996, 163.020004, 164.860001, 169.470001, 178.850006,\n",
              "       178.929993, 170.190002, 168.889999, 170.320007, 179.75    ,\n",
              "       178.130005, 181.820007, 181.220001, 181.839996, 188.490005,\n",
              "       188.100006, 175.020004, 172.520004, 176.979996, 181.309998,\n",
              "       181.600006, 187.009995])"
            ]
          },
          "metadata": {},
          "execution_count": 6
        }
      ]
    },
    {
      "cell_type": "code",
      "source": [
        "from sklearn.model_selection import train_test_split\n",
        "x_train, x_test, y_train, y_test = train_test_split(x, y, test_size = 0.2, random_state = 0)"
      ],
      "metadata": {
        "id": "W-H9rUsnMRY_"
      },
      "execution_count": 7,
      "outputs": []
    },
    {
      "cell_type": "code",
      "source": [
        "from sklearn.linear_model import LinearRegression\n",
        "regressor = LinearRegression()\n",
        "regressor.fit(x_train, y_train)"
      ],
      "metadata": {
        "colab": {
          "base_uri": "https://localhost:8080/"
        },
        "id": "RiqywunLMZvu",
        "outputId": "327bf1e9-ca53-4aa4-c3a6-c47928dfcb8e"
      },
      "execution_count": 8,
      "outputs": [
        {
          "output_type": "execute_result",
          "data": {
            "text/plain": [
              "LinearRegression()"
            ]
          },
          "metadata": {},
          "execution_count": 8
        }
      ]
    },
    {
      "cell_type": "code",
      "source": [
        "y_pred = regressor.predict(x_test)"
      ],
      "metadata": {
        "id": "7crl0CrMMbmH"
      },
      "execution_count": 9,
      "outputs": []
    },
    {
      "cell_type": "code",
      "source": [
        "plt.scatter(x_test, y_test, color = 'red')\n",
        "plt.scatter(x_train, y_train, color = 'green')\n",
        "plt.plot(x_test, y_pred, color = 'blue')\n",
        "plt.xlabel('Volume')\n",
        "plt.ylabel('Profit')\n",
        "plt.show()"
      ],
      "metadata": {
        "colab": {
          "base_uri": "https://localhost:8080/",
          "height": 279
        },
        "id": "9BdLDkfmMdMF",
        "outputId": "e1d18bd4-3722-4872-af78-a4c53f854724"
      },
      "execution_count": 10,
      "outputs": [
        {
          "output_type": "display_data",
          "data": {
            "text/plain": [
              "<Figure size 432x288 with 1 Axes>"
            ],
            "image/png": "[encoded data removed]"
          },
          "metadata": {
            "needs_background": "light"
          }
        }
      ]
    },
    {
      "cell_type": "code",
      "source": [
        ""
      ],
      "metadata": {
        "id": "t2gazs9uMeyO"
      },
      "execution_count": null,
      "outputs": []
    }
  ]
}